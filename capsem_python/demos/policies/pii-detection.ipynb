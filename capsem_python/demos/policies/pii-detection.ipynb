{
 "cells": [
  {
   "cell_type": "markdown",
   "id": "title",
   "metadata": {},
   "source": [
    "# PII Detection Policy\n",
    "\n",
    "Detect and control personally identifiable information (PII) in agent interactions using Microsoft Presidio"
   ]
  },
  {
   "cell_type": "markdown",
   "id": "intro",
   "metadata": {},
   "source": [
    "The PII Detection Policy uses [Microsoft Presidio](https://github.com/microsoft/presidio) to detect and control personally identifiable information (PII) in agent interactions.\n",
    "\n",
    "## Features\n",
    "\n",
    "- **Configurable per-entity decisions**: Choose BLOCK, CONFIRM, or LOG for each PII type\n",
    "- **Multi-context checking**: Scan prompts, tool arguments, model responses, and tool responses\n",
    "- **Full NLP capabilities**: Uses spacy by default for context-aware and NER-based detection\n",
    "- **Flexible NLP engines**: Switch to transformers, stanza, or smaller spacy models\n",
    "- **Framework-agnostic**: Works with any CAPSEM-compatible agent framework"
   ]
  },
  {
   "cell_type": "markdown",
   "id": "installation",
   "metadata": {},
   "source": [
    "## Installation\n",
    "\n",
    "### Standard Installation"
   ]
  },
  {
   "cell_type": "code",
   "execution_count": null,
   "id": "install",
   "metadata": {},
   "outputs": [],
   "source": [
    "# Install CAPSEM with PII support\n",
    "!uv add --group pii presidio-analyzer"
   ]
  },
  {
   "cell_type": "markdown",
   "id": "basic_usage",
   "metadata": {},
   "source": [
    "## Quick Start\n",
    "\n",
    "### Basic Usage"
   ]
  },
  {
   "cell_type": "code",
   "execution_count": null,
   "id": "basic_example",
   "metadata": {},
   "outputs": [],
   "source": [
    "from capsem.policies.pii_policy import PIIPolicy, PIIEntityType\n",
    "from capsem.models import Verdict\n",
    "\n",
    "# Uses Presidio's default (spacy en_core_web_lg)\n",
    "# Detects pattern-based PII + PERSON names with NER\n",
    "# Use PIIEntityType enum for type safety and IDE autocomplete\n",
    "policy = PIIPolicy(\n",
    "    entity_decisions={\n",
    "        PIIEntityType.CREDIT_CARD: Verdict.BLOCK,\n",
    "        PIIEntityType.US_SSN: Verdict.BLOCK,\n",
    "        PIIEntityType.EMAIL_ADDRESS: Verdict.CONFIRM,\n",
    "        PIIEntityType.PERSON: Verdict.LOG,  # Works with default NLP\n",
    "    }\n",
    ")\n",
    "\n",
    "print(f\"Policy created with {len(policy.entity_decisions)} entity types configured\")"
   ]
  },
  {
   "cell_type": "markdown",
   "id": "configuration",
   "metadata": {},
   "source": [
    "## Configuration\n",
    "\n",
    "### Entity Decisions\n",
    "\n",
    "Map each PII entity type to a verdict using the `PIIEntityType` enum:\n",
    "\n",
    "- **`Verdict.BLOCK`**: Prevent execution/block results\n",
    "- **`Verdict.CONFIRM`**: Require user approval\n",
    "- **`Verdict.LOG`**: Log warning but allow\n",
    "- **Omitted**: Don't check this entity type"
   ]
  },
  {
   "cell_type": "code",
   "execution_count": null,
   "id": "entity_config",
   "metadata": {},
   "outputs": [],
   "source": [
    "from capsem.policies.pii_policy import PIIPolicy, PIIEntityType, DEFAULT_PII_ENTITIES\n",
    "from capsem.models import Verdict\n",
    "\n",
    "# Block all default PII types\n",
    "policy_strict = PIIPolicy(\n",
    "    entity_decisions={entity: Verdict.BLOCK for entity in DEFAULT_PII_ENTITIES}\n",
    ")\n",
    "\n",
    "# Custom per-type decisions (recommended: use enum)\n",
    "policy_custom = PIIPolicy(\n",
    "    entity_decisions={\n",
    "        PIIEntityType.CREDIT_CARD: Verdict.BLOCK,      # Block credit cards\n",
    "        PIIEntityType.US_SSN: Verdict.BLOCK,           # Block SSNs\n",
    "        PIIEntityType.EMAIL_ADDRESS: Verdict.CONFIRM,  # Ask user about emails\n",
    "        PIIEntityType.PHONE_NUMBER: Verdict.LOG,       # Just log phone numbers\n",
    "        # PIIEntityType.IP_ADDRESS not listed = not checked\n",
    "    }\n",
    ")\n",
    "\n",
    "print(f\"Strict policy: {len(policy_strict.entity_decisions)} types configured\")\n",
    "print(f\"Custom policy: {len(policy_custom.entity_decisions)} types configured\")"
   ]
  },
  {
   "cell_type": "markdown",
   "id": "selective_checking",
   "metadata": {},
   "source": [
    "### Selective Checking\n",
    "\n",
    "Control which contexts are checked:"
   ]
  },
  {
   "cell_type": "code",
   "execution_count": null,
   "id": "selective_config",
   "metadata": {},
   "outputs": [],
   "source": [
    "# Check all contexts\n",
    "policy_all = PIIPolicy(\n",
    "    entity_decisions={PIIEntityType.EMAIL_ADDRESS: Verdict.BLOCK},\n",
    "    check_prompts=True,          # Check user prompts\n",
    "    check_tool_args=True,        # Check tool arguments\n",
    "    check_responses=True,        # Check model responses\n",
    "    check_tool_responses=True,   # Check tool responses\n",
    ")\n",
    "\n",
    "# Example: Only check outgoing data (responses)\n",
    "policy_dlp = PIIPolicy(\n",
    "    entity_decisions={PIIEntityType.EMAIL_ADDRESS: Verdict.BLOCK},\n",
    "    check_prompts=False,\n",
    "    check_tool_args=False,\n",
    "    check_responses=True,        # Check model output\n",
    "    check_tool_responses=True,   # Check tool output\n",
    ")\n",
    "\n",
    "print(\"DLP policy: Only checks outgoing data (responses)\")"
   ]
  },
  {
   "cell_type": "markdown",
   "id": "detection_threshold",
   "metadata": {},
   "source": [
    "### Detection Threshold\n",
    "\n",
    "Control sensitivity with `score_threshold` (0.0-1.0):"
   ]
  },
  {
   "cell_type": "code",
   "execution_count": null,
   "id": "threshold_config",
   "metadata": {},
   "outputs": [],
   "source": [
    "# Default threshold (balanced)\n",
    "policy_balanced = PIIPolicy(\n",
    "    entity_decisions={PIIEntityType.EMAIL_ADDRESS: Verdict.BLOCK},\n",
    "    score_threshold=0.5  # Default: 0.5\n",
    ")\n",
    "\n",
    "# Strict (fewer false positives, may miss some)\n",
    "policy_strict = PIIPolicy(\n",
    "    entity_decisions={PIIEntityType.PERSON: Verdict.BLOCK},\n",
    "    score_threshold=0.8\n",
    ")\n",
    "\n",
    "# Lenient (catches more, more false positives)\n",
    "policy_lenient = PIIPolicy(\n",
    "    entity_decisions={PIIEntityType.PERSON: Verdict.BLOCK},\n",
    "    score_threshold=0.3\n",
    ")\n",
    "\n",
    "print(\"Thresholds: Strict=0.8, Balanced=0.5, Lenient=0.3\")"
   ]
  },
  {
   "cell_type": "markdown",
   "id": "nlp_engines",
   "metadata": {},
   "source": [
    "## NLP Engine Configuration\n",
    "\n",
    "### Using Different spaCy Models"
   ]
  },
  {
   "cell_type": "code",
   "execution_count": null,
   "id": "spacy_config",
   "metadata": {},
   "outputs": [],
   "source": [
    "# Small model (12MB, fast)\n",
    "policy_sm = PIIPolicy(\n",
    "    entity_decisions={PIIEntityType.PERSON: Verdict.BLOCK},\n",
    "    nlp_engine_config={\n",
    "        \"nlp_engine_name\": \"spacy\",\n",
    "        \"models\": [{\"lang_code\": \"en\", \"model_name\": \"en_core_web_sm\"}]\n",
    "    }\n",
    ")\n",
    "\n",
    "# Large model (560MB, best accuracy) - default\n",
    "policy_lg = PIIPolicy(\n",
    "    entity_decisions={PIIEntityType.PERSON: Verdict.BLOCK},\n",
    "    nlp_engine_config={\n",
    "        \"nlp_engine_name\": \"spacy\",\n",
    "        \"models\": [{\"lang_code\": \"en\", \"model_name\": \"en_core_web_lg\"}]\n",
    "    }\n",
    ")\n",
    "\n",
    "print(\"Available spaCy models: sm (12MB), md (40MB), lg (560MB)\")"
   ]
  },
  {
   "cell_type": "markdown",
   "id": "transformers",
   "metadata": {},
   "source": [
    "### Using Transformers for Best Accuracy"
   ]
  },
  {
   "cell_type": "code",
   "execution_count": null,
   "id": "transformers_config",
   "metadata": {},
   "outputs": [],
   "source": [
    "# Requires: uv add transformers torch\n",
    "policy_transformers = PIIPolicy(\n",
    "    entity_decisions={PIIEntityType.PERSON: Verdict.BLOCK},\n",
    "    nlp_engine_config={\n",
    "        \"nlp_engine_name\": \"transformers\",\n",
    "        \"models\": [{\"lang_code\": \"en\", \"model_name\": \"dslim/bert-base-NER\"}]\n",
    "    }\n",
    ")\n",
    "\n",
    "print(\"Transformers: Best accuracy, ~50ms latency\")"
   ]
  },
  {
   "cell_type": "markdown",
   "id": "use_cases",
   "metadata": {},
   "source": [
    "## Use Cases\n",
    "\n",
    "### GDPR Compliance"
   ]
  },
  {
   "cell_type": "code",
   "execution_count": null,
   "id": "gdpr_example",
   "metadata": {},
   "outputs": [],
   "source": [
    "# GDPR compliance: Block all PII in EU region\n",
    "from capsem.policies.pii_policy import PIIPolicy, PIIEntityType, DEFAULT_PII_ENTITIES\n",
    "from capsem.models import Verdict\n",
    "\n",
    "gdpr_policy = PIIPolicy(\n",
    "    entity_decisions={entity: Verdict.BLOCK for entity in DEFAULT_PII_ENTITIES},\n",
    "    check_prompts=True,\n",
    "    check_responses=True,\n",
    ")\n",
    "\n",
    "print(f\"GDPR policy: Blocking {len(gdpr_policy.entity_decisions)} PII entity types\")"
   ]
  },
  {
   "cell_type": "markdown",
   "id": "dlp_case",
   "metadata": {},
   "source": [
    "### Data Loss Prevention (DLP)"
   ]
  },
  {
   "cell_type": "code",
   "execution_count": null,
   "id": "dlp_example",
   "metadata": {},
   "outputs": [],
   "source": [
    "# Prevent sensitive data leakage in model responses\n",
    "from capsem.policies.pii_policy import PIIPolicy, PIIEntityType\n",
    "from capsem.models import Verdict\n",
    "\n",
    "dlp_policy = PIIPolicy(\n",
    "    entity_decisions={\n",
    "        PIIEntityType.CREDIT_CARD: Verdict.BLOCK,\n",
    "        PIIEntityType.US_SSN: Verdict.BLOCK,\n",
    "        PIIEntityType.US_BANK_NUMBER: Verdict.BLOCK,\n",
    "    },\n",
    "    check_prompts=False,      # Allow in prompts\n",
    "    check_responses=True,     # Block in responses (DLP)\n",
    "    check_tool_responses=True,\n",
    ")\n",
    "\n",
    "print(\"DLP policy: Prevents sensitive data leakage in outputs only\")"
   ]
  },
  {
   "cell_type": "markdown",
   "id": "customer_service",
   "metadata": {},
   "source": [
    "### Customer Service Safety"
   ]
  },
  {
   "cell_type": "code",
   "execution_count": null,
   "id": "cs_example",
   "metadata": {},
   "outputs": [],
   "source": [
    "# Require confirmation for PII in customer interactions\n",
    "from capsem.policies.pii_policy import PIIPolicy, PIIEntityType\n",
    "from capsem.models import Verdict\n",
    "\n",
    "cs_policy = PIIPolicy(\n",
    "    entity_decisions={\n",
    "        PIIEntityType.CREDIT_CARD: Verdict.BLOCK,     # Never allow\n",
    "        PIIEntityType.EMAIL_ADDRESS: Verdict.CONFIRM, # Ask first\n",
    "        PIIEntityType.PHONE_NUMBER: Verdict.CONFIRM,  # Ask first\n",
    "        PIIEntityType.PERSON: Verdict.LOG,            # Just log\n",
    "    },\n",
    "    nlp_engine_config={\n",
    "        \"nlp_engine_name\": \"spacy\",\n",
    "        \"models\": [{\"lang_code\": \"en\", \"model_name\": \"en_core_web_sm\"}]\n",
    "    }\n",
    ")\n",
    "\n",
    "print(\"Customer Service policy: Blocks cards, confirms emails/phones, logs names\")"
   ]
  },
  {
   "cell_type": "markdown",
   "id": "integration",
   "metadata": {},
   "source": [
    "## Integration with Security Manager"
   ]
  },
  {
   "cell_type": "code",
   "execution_count": null,
   "id": "integration_example",
   "metadata": {},
   "outputs": [],
   "source": [
    "from capsem import SecurityManager\n",
    "from capsem.policies.pii_policy import PIIPolicy, PIIEntityType\n",
    "from capsem.models import Verdict\n",
    "\n",
    "# Create PII policy\n",
    "pii_policy = PIIPolicy(\n",
    "    entity_decisions={\n",
    "        PIIEntityType.CREDIT_CARD: Verdict.BLOCK,\n",
    "        PIIEntityType.EMAIL_ADDRESS: Verdict.CONFIRM,\n",
    "        PIIEntityType.PHONE_NUMBER: Verdict.LOG,\n",
    "    }\n",
    ")\n",
    "\n",
    "# Add to security manager\n",
    "security_manager = SecurityManager()\n",
    "security_manager.add_policy(pii_policy)\n",
    "\n",
    "print(f\"Security manager configured with {len(security_manager.policies)} policy\")"
   ]
  },
  {
   "cell_type": "markdown",
   "id": "references",
   "metadata": {},
   "source": [
    "## References\n",
    "\n",
    "- [Microsoft Presidio Documentation](https://microsoft.github.io/presidio/)\n",
    "- [Presidio Supported Entities](https://microsoft.github.io/presidio/supported_entities/)\n",
    "- [Presidio Analyzer Architecture](https://microsoft.github.io/presidio/analyzer/)"
   ]
  }
 ],
 "metadata": {
  "kernelspec": {
   "display_name": "Python 3",
   "language": "python",
   "name": "python3"
  },
  "language_info": {
   "codemirror_mode": {
    "name": "ipython",
    "version": 3
   },
   "file_extension": ".py",
   "mimetype": "text/x-python",
   "name": "python",
   "nbconvert_exporter": "python",
   "pygments_lexer": "ipython3",
   "version": "3.11.0"
  }
 },
 "nbformat": 4,
 "nbformat_minor": 5
}
