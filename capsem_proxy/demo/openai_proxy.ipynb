{
 "cells": [
  {
   "cell_type": "markdown",
   "id": "d01764da",
   "metadata": {},
   "source": [
    "# OpenAI Proxying Demo\n",
    "\n",
    "This is a demo of using CAPSEM to proxy requests to OpenAI via the CAPSEM Proxy. It shows how to set up a simple agent that uses OpenAI as its LLM, and how to enforce policies on the agent's behavior."
   ]
  },
  {
   "cell_type": "code",
   "execution_count": 1,
   "id": "fb7ff2f4",
   "metadata": {},
   "outputs": [],
   "source": [
    "import json\n",
    "from openai import OpenAI"
   ]
  },
  {
   "cell_type": "markdown",
   "id": "8039bdf7",
   "metadata": {},
   "source": [
    "## Instantiate a Proxied OpenAI Client\n",
    "\n",
    "To proxy the requests to OpenAI through CAPSEM, we need to pass the CAPSEM Proxy URL as the `base_url` when creating the OpenAI client.\n",
    "\n",
    "We instantiate the OpenAI client with the CAPSEM Proxy URL, and the client will automatically use the API key from the environment."
   ]
  },
  {
   "cell_type": "code",
   "execution_count": 4,
   "id": "5722a79e",
   "metadata": {},
   "outputs": [],
   "source": [
    "CAPSEM_PROXY = \"http://127.0.0.1:8000\"\n",
    "MODEL_NAME = \"gpt-5-nano\"\n",
    "client = OpenAI(base_url=f\"{CAPSEM_PROXY}/v1\")"
   ]
  },
  {
   "cell_type": "markdown",
   "id": "b0b37a01",
   "metadata": {},
   "source": [
    "## Calling OpenAI via CAPSEM Proxy\n",
    "\n",
    "We can now use the OpenAI client as usual, and all requests will be proxied through CAPSEM. This allows us to enforce policies on the requests and responses, such as filtering out sensitive information or input sanitization.\n",
    "\n",
    "Here is a simple example of generating content with OpenAI via CAPSEM Proxy with tool calling."
   ]
  },
  {
   "cell_type": "code",
   "execution_count": 6,
   "id": "9eb413a5",
   "metadata": {},
   "outputs": [
    {
     "name": "stdout",
     "output_type": "stream",
     "text": [
      "Model requested tool call:\n",
      "Tool: get_weather\n",
      "Arguments: {\"location\":\"Paris\"}\n",
      "\n",
      "Tool result: {'temperature': '20°C', 'location': 'Paris', 'condition': 'sunny'}\n",
      "\n",
      "Final response: Currently in Paris: sunny, about 20°C. Would you like an hourly forecast or a 7-day outlook?\n"
     ]
    }
   ],
   "source": [
    "# Define a tool\n",
    "tools = [\n",
    "    {\n",
    "        \"type\": \"function\",\n",
    "        \"function\": {\n",
    "            \"name\": \"get_weather\",\n",
    "            \"description\": \"Get the current weather for a location\",\n",
    "            \"parameters\": {\n",
    "                \"type\": \"object\",\n",
    "                \"properties\": {\n",
    "                    \"location\": {\n",
    "                        \"type\": \"string\",\n",
    "                        \"description\": \"City name\"\n",
    "                    }\n",
    "                },\n",
    "                \"required\": [\"location\"]\n",
    "            }\n",
    "        }\n",
    "    }\n",
    "]\n",
    "\n",
    "# First turn: Model requests tool call\n",
    "response1 = client.chat.completions.create(\n",
    "    model=MODEL_NAME,\n",
    "    messages=[\n",
    "        {\"role\": \"user\", \"content\": \"What's the weather in Paris?\"}\n",
    "    ],\n",
    "    tools=tools\n",
    ")\n",
    "\n",
    "print(\"Model requested tool call:\")\n",
    "tool_call = response1.choices[0].message.tool_calls[0]\n",
    "print(f\"Tool: {tool_call.function.name}\")\n",
    "print(f\"Arguments: {tool_call.function.arguments}\")\n",
    "\n",
    "# Execute tool (client-side)\n",
    "def get_weather(location: str) -> dict:\n",
    "    # Dummy implementation for illustration\n",
    "    return {\"temperature\": \"20°C\", \"location\": location, \"condition\": \"sunny\"}\n",
    "\n",
    "args = json.loads(tool_call.function.arguments)\n",
    "tool_result = get_weather(**args)\n",
    "print(f\"\\nTool result: {tool_result}\")\n",
    "\n",
    "# Second turn: Send tool result back\n",
    "response2 = client.chat.completions.create(\n",
    "    model=MODEL_NAME,\n",
    "    messages=[\n",
    "        {\"role\": \"user\", \"content\": \"What's the weather in Paris?\"},\n",
    "        response1.choices[0].message.model_dump(),\n",
    "        {\n",
    "            \"role\": \"tool\",\n",
    "            \"tool_call_id\": tool_call.id,\n",
    "            \"content\": json.dumps(tool_result)\n",
    "        }\n",
    "    ]\n",
    ")\n",
    "\n",
    "print(f\"\\nFinal response: {response2.choices[0].message.content}\")"
   ]
  },
  {
   "cell_type": "markdown",
   "id": "57cf2463",
   "metadata": {},
   "source": [
    "## Example of Detections"
   ]
  },
  {
   "cell_type": "markdown",
   "id": "a40c9b09",
   "metadata": {},
   "source": [
    "### PII Detection in Tool Call\n",
    "\n",
    "In this example, the agent calls a tool where the model's requested arguments contain PII information. CAPSEM proxy detects the PII in the tool call and blocks the request."
   ]
  },
  {
   "cell_type": "code",
   "execution_count": 15,
   "id": "1dafee1f",
   "metadata": {},
   "outputs": [
    {
     "name": "stdout",
     "output_type": "stream",
     "text": [
      "CAPSEM BLOCKED: Error code: 403 - {'detail': \"Request blocked by security policy: PII detected in tool 'contact_lookup' arguments: EMAIL_ADDRESS(count=1, score=1.00, action=BLOCK)\"}\n"
     ]
    }
   ],
   "source": [
    "# Define a contact lookup tool\n",
    "tools = [\n",
    "    {\n",
    "        \"type\": \"function\",\n",
    "        \"function\": {\n",
    "            \"name\": \"contact_lookup\",\n",
    "            \"description\": \"Look up contact information by email\",\n",
    "            \"parameters\": {\n",
    "                \"type\": \"object\",\n",
    "                \"properties\": {\n",
    "                    \"email\": {\n",
    "                        \"type\": \"string\",\n",
    "                        \"description\": \"Email address to lookup\"\n",
    "                    }\n",
    "                },\n",
    "                \"required\": [\"email\"]\n",
    "            }\n",
    "        }\n",
    "    }\n",
    "]\n",
    "\n",
    "try:\n",
    "    response = client.chat.completions.create(\n",
    "        model=MODEL_NAME,\n",
    "        messages=[\n",
    "            {\"role\": \"user\", \"content\": \"test contact lookup tool for a test email\"}\n",
    "        ],\n",
    "        tools=tools\n",
    "    )\n",
    "    print(response.choices[0].message.content)\n",
    "except Exception as e:\n",
    "    print(f\"CAPSEM BLOCKED: {e}\")"
   ]
  },
  {
   "cell_type": "markdown",
   "id": "f38229f2",
   "metadata": {},
   "source": [
    "### PII Detection in Tool Result\n",
    "\n",
    "In this example, the client sends a tool result that contains PII information. CAPSEM proxy detects the PII in the tool result and blocks the request."
   ]
  },
  {
   "cell_type": "code",
   "execution_count": 7,
   "id": "42cc29f8",
   "metadata": {},
   "outputs": [
    {
     "name": "stdout",
     "output_type": "stream",
     "text": [
      "CAPSEM BLOCKED: Error code: 403 - {'detail': \"Request blocked by security policy: PII detected in tool 'unknown' response: EMAIL_ADDRESS(count=1, score=1.00, action=BLOCK)\"}\n"
     ]
    }
   ],
   "source": [
    "# First turn: Model requests weather\n",
    "tools = [\n",
    "    {\n",
    "        \"type\": \"function\",\n",
    "        \"function\": {\n",
    "            \"name\": \"get_weather\",\n",
    "            \"description\": \"Get weather for a location\",\n",
    "            \"parameters\": {\n",
    "                \"type\": \"object\",\n",
    "                \"properties\": {\n",
    "                    \"location\": {\"type\": \"string\"}\n",
    "                },\n",
    "                \"required\": [\"location\"]\n",
    "            }\n",
    "        }\n",
    "    }\n",
    "]\n",
    "\n",
    "response1 = client.chat.completions.create(\n",
    "    model=MODEL_NAME,\n",
    "    messages=[\n",
    "        {\"role\": \"user\", \"content\": \"What's the weather in Paris?\"}\n",
    "    ],\n",
    "    tools=tools\n",
    ")\n",
    "\n",
    "tool_call = response1.choices[0].message.tool_calls[0]\n",
    "\n",
    "# Second turn: Send tool result with PII\n",
    "try:\n",
    "    response2 = client.chat.completions.create(\n",
    "        model=MODEL_NAME,\n",
    "        messages=[\n",
    "            {\"role\": \"user\", \"content\": \"What's the weather in Paris?\"},\n",
    "            response1.choices[0].message.model_dump(),\n",
    "            {\n",
    "                \"role\": \"tool\",\n",
    "                \"tool_call_id\": tool_call.id,\n",
    "                \"content\": json.dumps({\n",
    "                    \"temperature\": \"20°C\",\n",
    "                    \"location\": \"PII test@gmail.com\"  # PII in tool result\n",
    "                })\n",
    "            }\n",
    "        ]\n",
    "    )\n",
    "    print(response2.choices[0].message.content)\n",
    "except Exception as e:\n",
    "    print(f\"CAPSEM BLOCKED: {e}\")"
   ]
  },
  {
   "cell_type": "markdown",
   "id": "4a5ee7cb",
   "metadata": {},
   "source": [
    "### PII Detection in Model Response\n",
    "\n",
    "In this example, the model generates a response that contains PII information. CAPSEM proxy detects the PII in the response and blocks it."
   ]
  },
  {
   "cell_type": "code",
   "execution_count": 8,
   "id": "a0450181",
   "metadata": {},
   "outputs": [
    {
     "name": "stdout",
     "output_type": "stream",
     "text": [
      "CAPSEM BLOCKED: Error code: 403 - {'detail': 'Request blocked by security policy: PII detected in model response: EMAIL_ADDRESS(count=13, score=1.00, action=BLOCK), PERSON(count=2, score=0.85, action=LOG)'}\n"
     ]
    }
   ],
   "source": [
    "try:\n",
    "    response = client.chat.completions.create(\n",
    "        model=MODEL_NAME,\n",
    "        messages=[\n",
    "            {\"role\": \"user\", \"content\": \"My name is Elie - generate me an idea for an email address @gmail.com\"}\n",
    "        ]\n",
    "    )\n",
    "    print(response.choices[0].message.content)\n",
    "except Exception as e:\n",
    "    print(f\"CAPSEM BLOCKED: {e}\")"
   ]
  },
  {
   "cell_type": "markdown",
   "id": "blocking_tests",
   "metadata": {},
   "source": [
    "### Debug Policy - Blocking Test Keyword in prompt\n",
    "The CAPSEM proxy includes a debug policy that blocks any request containing the keyword `capsem_block`. We use it to show how to block requests that contains specific keywords."
   ]
  },
  {
   "cell_type": "code",
   "execution_count": 13,
   "id": "debug_block",
   "metadata": {},
   "outputs": [
    {
     "name": "stdout",
     "output_type": "stream",
     "text": [
      "CAPSEM BLOCKED PROMPT: Error code: 403 - {'detail': \"Request blocked by security policy: Detected 'capsem_block' in prompt\"}\n"
     ]
    }
   ],
   "source": [
    "# Test blocking in prompt\n",
    "try:\n",
    "    response = client.chat.completions.create(\n",
    "        model=MODEL_NAME,\n",
    "        messages=[\n",
    "            {\"role\": \"user\", \"content\": \"Tell me about capsem_block technology\"}\n",
    "        ]\n",
    "    )\n",
    "    print(response.choices[0].message.content)\n",
    "except Exception as e:\n",
    "    print(f\"CAPSEM BLOCKED PROMPT: {e}\")"
   ]
  },
  {
   "cell_type": "markdown",
   "id": "50496513",
   "metadata": {},
   "source": [
    "## Tool name \n",
    "This example demonstrate how CAPSEM scan for tool name as well by adding the\n",
    "debug keyword in the tool name and see it being blocked."
   ]
  },
  {
   "cell_type": "code",
   "execution_count": 14,
   "id": "37616316",
   "metadata": {},
   "outputs": [
    {
     "name": "stdout",
     "output_type": "stream",
     "text": [
      "CAPSEM BLOCKED TOOL NAME: Error code: 403 - {'detail': \"Tool blocked by security policy: Detected 'capsem_block' in tool name\"}\n"
     ]
    }
   ],
   "source": [
    "# Test blocking in tool name\n",
    "try:\n",
    "    response = client.chat.completions.create(\n",
    "        model=MODEL_NAME,\n",
    "        messages=[\n",
    "            {\"role\": \"user\", \"content\": \"Use the dangerous tool\"}\n",
    "        ],\n",
    "        tools=[\n",
    "            {\n",
    "                \"type\": \"function\",\n",
    "                \"function\": {\n",
    "                    \"name\": \"dangerous_capsem_block\",\n",
    "                    \"description\": \"A blocked tool\",\n",
    "                    \"parameters\": {\n",
    "                        \"type\": \"object\",\n",
    "                        \"properties\": {}\n",
    "                    }\n",
    "                }\n",
    "            }\n",
    "        ]\n",
    "    )\n",
    "    print(response.choices[0].message.content)\n",
    "except Exception as e:\n",
    "    print(f\"CAPSEM BLOCKED TOOL NAME: {e}\")"
   ]
  }
 ],
 "metadata": {
  "kernelspec": {
   "display_name": ".venv",
   "language": "python",
   "name": "python3"
  },
  "language_info": {
   "codemirror_mode": {
    "name": "ipython",
    "version": 3
   },
   "file_extension": ".py",
   "mimetype": "text/x-python",
   "name": "python",
   "nbconvert_exporter": "python",
   "pygments_lexer": "ipython3",
   "version": "3.13.1"
  }
 },
 "nbformat": 4,
 "nbformat_minor": 5
}
