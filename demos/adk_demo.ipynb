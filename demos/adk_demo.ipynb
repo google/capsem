{
 "cells": [
  {
   "cell_type": "markdown",
   "id": "2184b365",
   "metadata": {},
   "source": [
    "# ADK demo\n",
    "\n",
    "This demo shows how to use CAPSEM with the ADK agent framework.\n",
    "\n",
    "Known Limitation: some of the callbacks on ADK are not working as expected due to inability to modify the context via InvokationContext objects e.g on_user_message. This is a limitation of ADK and should be fixed in future versions."
   ]
  },
  {
   "cell_type": "code",
   "execution_count": 9,
   "id": "a8558058",
   "metadata": {},
   "outputs": [
    {
     "name": "stdout",
     "output_type": "stream",
     "text": [
      "The autoreload extension is already loaded. To reload it, use:\n",
      "  %reload_ext autoreload\n"
     ]
    },
    {
     "data": {
      "text/plain": [
       "True"
      ]
     },
     "execution_count": 9,
     "metadata": {},
     "output_type": "execute_result"
    }
   ],
   "source": [
    "%load_ext autoreload\n",
    "%autoreload 2\n",
    "import os\n",
    "from uuid import uuid4\n",
    "from dotenv import load_dotenv\n",
    "load_dotenv()"
   ]
  },
  {
   "cell_type": "code",
   "execution_count": 10,
   "id": "1c7cb6c1",
   "metadata": {},
   "outputs": [],
   "source": [
    "# @title CAPSEM imports\n",
    "from capsem import SecurityManager\n",
    "from capsem.policies import DebugPolicy\n",
    "\n",
    "# Run CAPSEM policy manager as an ADK plugin\n",
    "from capsem.integrations.adk import CAPSEMPlugin\n",
    "\n",
    "# Extend ADK Runner to block unsafe flows based on CAPSEM policies decisions\n",
    "from capsem.integrations.adk import CAPSEMRunner"
   ]
  },
  {
   "cell_type": "code",
   "execution_count": 11,
   "id": "98b320d1",
   "metadata": {},
   "outputs": [],
   "source": [
    "# @title ADK imports\n",
    "import os\n",
    "import asyncio\n",
    "from google.adk.agents import Agent, LlmAgent\n",
    "from google.adk.models.lite_llm import LiteLlm  # cross-platform LLM interface\n",
    "\n",
    "from google.adk.sessions import InMemorySessionService\n",
    "from google.adk.runners import Runner\n",
    "from google.genai import types # For creating message Content/Parts"
   ]
  },
  {
   "cell_type": "markdown",
   "id": "e8778840",
   "metadata": {},
   "source": [
    "## ADK setup"
   ]
  },
  {
   "cell_type": "code",
   "execution_count": 12,
   "id": "e5c484d9",
   "metadata": {},
   "outputs": [],
   "source": [
    "# @title Define the get_weather Tool\n",
    "def get_weather(city: str) -> dict:\n",
    "    \"\"\"Retrieves the current weather report for a specified city.\n",
    "\n",
    "    Args:\n",
    "        city (str): The name of the city (e.g., \"New York\", \"London\", \"Tokyo\").\n",
    "\n",
    "    Returns:\n",
    "        dict: A dictionary containing the weather information.\n",
    "              Includes a 'status' key ('success' or 'error').\n",
    "              If 'success', includes a 'report' key with weather details.\n",
    "              If 'error', includes an 'error_message' key.\n",
    "    \"\"\"\n",
    "    print(f\"--- Tool: get_weather called for city: {city} ---\") # Log tool execution\n",
    "    city_normalized = city.lower().replace(\" \", \"\") # Basic normalization\n",
    "\n",
    "    # Mock weather data\n",
    "    mock_weather_db = {\n",
    "        \"newyork\": {\"status\": \"success\", \"report\": \"The weather in New York is sunny with a temperature of 25°C.\"},\n",
    "        \"london\": {\"status\": \"success\", \"report\": \"It's cloudy in London with a temperature of 15°C.\"},\n",
    "        \"tokyo\": {\"status\": \"success\", \"report\": \"Tokyo is experiencing light rain and a temperature of 18°C.\"},\n",
    "    }\n",
    "\n",
    "    if city_normalized in mock_weather_db:\n",
    "        return mock_weather_db[city_normalized]\n",
    "    else:\n",
    "        return {\"status\": \"error\", \"error_message\": f\"Sorry, I don't have weather information for '{city}'.\"}\n",
    "\n",
    "# # Example tool usage (optional test)\n",
    "# print(get_weather(\"New York\"))\n",
    "# print(get_weather(\"Paris\"))"
   ]
  },
  {
   "cell_type": "markdown",
   "id": "d3302de5",
   "metadata": {},
   "source": [
    "### Defining ADK agent\n",
    "\n",
    "ADK [supports various models providers](https://google.github.io/adk-docs/agents/models/) via the [LiteLLM](https://docs.litellm.ai/docs/providers) package. \n",
    "\n",
    "Make sure to add the API keys for the models you want to use to your .env file. See `env.example` for reference.\n"
   ]
  },
  {
   "cell_type": "code",
   "execution_count": 19,
   "id": "08ba60e3",
   "metadata": {},
   "outputs": [
    {
     "name": "stdout",
     "output_type": "stream",
     "text": [
      "Using OpenAI model: gpt-5-nano\n"
     ]
    }
   ],
   "source": [
    "# @title Define the Weather Agent\n",
    "\n",
    "# Select the provider and model you want to use\n",
    "model_name = \"gpt-5-nano\" # see https://docs.litellm.ai/docs/providers/openai\n",
    "# model_name = \"claude-sonnet-4-20250514\" # see https://docs.litellm.ai/docs/providers/anthropic\n",
    "# model_name = \"gemini-2.5-flash\"\n",
    "\n",
    "\n",
    "if model_name.startswith(\"gpt\"):\n",
    "    assert os.getenv(\"OPENAI_API_KEY\"), \"Please set the OPENAI_API_KEY environment variable.\"\n",
    "    model = LiteLlm(model=model_name)  # Use LiteLlm for OpenAI or Anthropic models\n",
    "    print(f\"Using OpenAI model: {model_name}\")\n",
    "elif model_name.startswith(\"claude\"):\n",
    "    assert os.getenv(\"ANTHROPIC_API_KEY\"), \"Please set the ANTHROPIC_API_KEY environment variable.\"\n",
    "    model = LiteLlm(model=model_name)  # Use LiteLlm for OpenAI or Anthropic models\n",
    "    print(f\"Using Anthropic model: {model_name}\")\n",
    "elif model_name.startswith(\"gemini\"):\n",
    "    assert os.getenv(\"GOOGLE_API_KEY\"), \"Please set the GOOGLE_API_KEY environment variable.\"\n",
    "    model = model_name  # Use string for Gemini models\n",
    "    print(f\"Using Google model: {model_name}\")\n",
    "else:\n",
    "    raise ValueError(\"Unsupported model. Please choose a valid model name.\")\n",
    "\n",
    "weather_agent = LlmAgent(\n",
    "    name=\"weather_agent_v1\",\n",
    "    model=model,\n",
    "    description=\"Provides weather information for specific cities.\",\n",
    "    instruction=\"You are a helpful weather assistant. \"\n",
    "                \"When the user asks for the weather in a specific city, \"\n",
    "                \"use the 'get_weather' tool to find the information. \"\n",
    "                \"If the tool returns an error, inform the user politely. \"\n",
    "                \"If the tool is successful, present the weather report clearly.\",\n",
    "    tools=[get_weather],\n",
    ")"
   ]
  },
  {
   "cell_type": "markdown",
   "id": "bcaec823",
   "metadata": {},
   "source": [
    "## Running ADK with CAPSEM\n",
    "\n",
    "To run ADK with CAPSEM, we need to:\n",
    "- create a `SecurityManager` with the desired security policies (e.g., `DebugPolicy` for logging all actions).\n",
    "- Initialize the ADK `CAPSEMPlugin` that acts as a bridge between CAPSEM and ADK with the `SecurityManager`.\n",
    "- Use the `CAPSEMRunner` to run the ADK agent with CAPSEM support in order to be able to block unsafe actions. This step will hopefully be replaced with a native ADK support in the future.\n"
   ]
  },
  {
   "cell_type": "markdown",
   "id": "082b8f2e",
   "metadata": {},
   "source": [
    "### Instantiate CAPSEM security manager as ADK plugin"
   ]
  },
  {
   "cell_type": "code",
   "execution_count": 20,
   "id": "3de4efcd",
   "metadata": {},
   "outputs": [],
   "source": [
    "security_manager = SecurityManager()\n",
    "security_manager.add_policy(DebugPolicy())\n",
    "capsem_plugin = CAPSEMPlugin(security_manager=security_manager)"
   ]
  },
  {
   "cell_type": "markdown",
   "id": "713c4244",
   "metadata": {},
   "source": [
    "### Ensure ADK blocks unsafe actions by using CAPSEMRunner instead of standard Runner\n",
    "\n",
    "This is simply done by replacing the `Runner` class with our custom `CAPSEMRunner` that inherits from `Runner` which overrides the `async_run` method to check CAPSEM decisions before executing any action.\n",
    "\n",
    "Make sure to include the capsem plugin in the list of plugins when instantiating the runner otherwise the CAPSEM policy manager won't run."
   ]
  },
  {
   "cell_type": "code",
   "execution_count": 21,
   "id": "60fc4636",
   "metadata": {},
   "outputs": [],
   "source": [
    "session_service = InMemorySessionService()\n",
    "APP_NAME = \"CAPSEM_ADK_Demo\"\n",
    "runner = CAPSEMRunner(agent=weather_agent, app_name=APP_NAME,\n",
    "    session_service=session_service,\n",
    "    plugins=[capsem_plugin]  # Integrate CAPSEM plugin\n",
    ")\n"
   ]
  },
  {
   "cell_type": "markdown",
   "id": "55dac0a5",
   "metadata": {},
   "source": [
    "### Test run"
   ]
  },
  {
   "cell_type": "code",
   "execution_count": 22,
   "id": "028cd1b6",
   "metadata": {},
   "outputs": [],
   "source": [
    "async def run_adk(prompt: str):\n",
    "    USER_ID = \"3713\"\n",
    "    SESSION_ID = f\"s{uuid4().hex}\"\n",
    "    print(\"prompt:\", prompt)\n",
    "    # Create the specific session where the conversation will happen\n",
    "    await session_service.create_session(app_name=APP_NAME,\n",
    "                                         user_id=USER_ID,\n",
    "                                         session_id=SESSION_ID)\n",
    "    content = types.Content(role='user', parts=[types.Part(text=prompt)])\n",
    "    final_response_text = \"Agent did not produce a final response.\" # Default\n",
    "\n",
    "    async for event in runner.run_async(user_id=USER_ID, session_id=SESSION_ID,\n",
    "                                        new_message=content):\n",
    "        # Key Concept: is_final_response() marks the concluding message for the turn.\n",
    "        if event.is_final_response():\n",
    "            if event.content and event.content.parts:\n",
    "                # Assuming text response in the first part\n",
    "                final_response_text = event.content.parts[0].text\n",
    "            elif event.actions and event.actions.escalate: # Handle potential errors/escalations\n",
    "                final_response_text = f\"Agent escalated: {event.error_message or 'No specific message.'}\"\n",
    "            break # Stop processing events once the final response is found\n",
    "\n",
    "    print(final_response_text)"
   ]
  },
  {
   "cell_type": "code",
   "execution_count": 23,
   "id": "60fbd564",
   "metadata": {},
   "outputs": [
    {
     "name": "stdout",
     "output_type": "stream",
     "text": [
      "-=normal workflow=-\n",
      "prompt: What's the weather like in new york?\n",
      "\n",
      "[Decision][108de89c9452][ALLOW][on_model_call] safe: 1 policies check passed.\n",
      "--- Tool: get_weather called for city: New York ---\n",
      "[Decision][e9178a4b87a0][ALLOW][on_tool_response] safe: 1 policies check passed.\n",
      "Here’s the current weather for New York: sunny, 25°C.\n",
      "\n",
      "Would you like humidity, wind details, or an hourly forecast?\n",
      "[Decision][0bdcaee07e8d][ALLOW][on_model_call] safe: 1 policies check passed.\n",
      "Here’s the current weather for New York: sunny, 25°C.\n",
      "\n",
      "Would you like humidity, wind details, or an hourly forecast?\n",
      "\n",
      "-= Blocking workflow =-\n",
      "prompt: block What's the weather like in new york?\n",
      "[Decision][9481c576cce3][BLOCK][on_model_call] policy_violation: Detected 'block' in prompt\n",
      "Agent did not produce a final response.\n"
     ]
    }
   ],
   "source": [
    "print(\"-=normal workflow=-\")\n",
    "query = \"What's the weather like in new york?\"\n",
    "await run_adk(query)\n",
    "\n",
    "# test blocking with DebugPolicy\n",
    "print(\"\\n-= Blocking workflow =-\")\n",
    "blocking_query = \"block What's the weather like in new york?\"\n",
    "await run_adk(blocking_query)\n"
   ]
  }
 ],
 "metadata": {
  "kernelspec": {
   "display_name": ".venv",
   "language": "python",
   "name": "python3"
  },
  "language_info": {
   "codemirror_mode": {
    "name": "ipython",
    "version": 3
   },
   "file_extension": ".py",
   "mimetype": "text/x-python",
   "name": "python",
   "nbconvert_exporter": "python",
   "pygments_lexer": "ipython3",
   "version": "3.11.11"
  }
 },
 "nbformat": 4,
 "nbformat_minor": 5
}
